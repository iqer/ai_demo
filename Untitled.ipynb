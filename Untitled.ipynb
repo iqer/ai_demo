{
 "cells": [
  {
   "cell_type": "code",
   "execution_count": 1,
   "id": "c100f5e6-aabc-4580-984d-7b4ca3b4544f",
   "metadata": {},
   "outputs": [],
   "source": [
    "import torch"
   ]
  },
  {
   "cell_type": "code",
   "execution_count": 2,
   "id": "f48dcd89-0164-48dc-ae7b-1cb2bd2b6c92",
   "metadata": {},
   "outputs": [
    {
     "data": {
      "text/plain": [
       "False"
      ]
     },
     "execution_count": 2,
     "metadata": {},
     "output_type": "execute_result"
    }
   ],
   "source": [
    "torch.cuda.is_available()"
   ]
  },
  {
   "cell_type": "code",
   "execution_count": 8,
   "id": "4e6d0f36-a0a5-4479-9225-dcf5aba6da0e",
   "metadata": {},
   "outputs": [
    {
     "name": "stdout",
     "output_type": "stream",
     "text": [
      "Help on method_descriptor:\n",
      "\n",
      "clone(...)\n",
      "    clone(*, memory_format=torch.preserve_format) -> Tensor\n",
      "    \n",
      "    See :func:`torch.clone`\n",
      "\n"
     ]
    }
   ],
   "source": [
    "help(torch.BoolTensor.clone)\n"
   ]
  },
  {
   "cell_type": "code",
   "execution_count": 9,
   "id": "d67bb5b5-6fe5-4483-bc12-82980f3f9a0d",
   "metadata": {},
   "outputs": [
    {
     "name": "stdout",
     "output_type": "stream",
     "text": [
      "Help on built-in function clone:\n",
      "\n",
      "clone(...)\n",
      "    clone(input, *, memory_format=torch.preserve_format) -> Tensor\n",
      "    \n",
      "    Returns a copy of :attr:`input`.\n",
      "    \n",
      "    .. note::\n",
      "    \n",
      "        This function is differentiable, so gradients will flow back from the\n",
      "        result of this operation to :attr:`input`. To create a tensor without an\n",
      "        autograd relationship to :attr:`input` see :meth:`~Tensor.detach`.\n",
      "    \n",
      "    Args:\n",
      "        input (Tensor): the input tensor.\n",
      "    \n",
      "    Keyword args:\n",
      "        memory_format (:class:`torch.memory_format`, optional): the desired memory format of\n",
      "            returned tensor. Default: ``torch.preserve_format``.\n",
      "\n"
     ]
    }
   ],
   "source": [
    "help(torch.clone)"
   ]
  },
  {
   "cell_type": "code",
   "execution_count": null,
   "id": "e8b4c90c-65cf-462b-a6db-e0e59d64090c",
   "metadata": {},
   "outputs": [],
   "source": []
  }
 ],
 "metadata": {
  "kernelspec": {
   "display_name": "Python 3 (ipykernel)",
   "language": "python",
   "name": "python3"
  },
  "language_info": {
   "codemirror_mode": {
    "name": "ipython",
    "version": 3
   },
   "file_extension": ".py",
   "mimetype": "text/x-python",
   "name": "python",
   "nbconvert_exporter": "python",
   "pygments_lexer": "ipython3",
   "version": "3.9.10"
  }
 },
 "nbformat": 4,
 "nbformat_minor": 5
}
